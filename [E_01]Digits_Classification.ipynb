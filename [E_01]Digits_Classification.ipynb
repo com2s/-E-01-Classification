{
  "nbformat": 4,
  "nbformat_minor": 0,
  "metadata": {
    "colab": {
      "provenance": []
    },
    "kernelspec": {
      "name": "python3",
      "display_name": "Python 3"
    },
    "language_info": {
      "name": "python"
    }
  },
  "cells": [
    {
      "cell_type": "code",
      "execution_count": 12,
      "metadata": {
        "colab": {
          "base_uri": "https://localhost:8080/"
        },
        "id": "o4JcjLJ1sUob",
        "outputId": "62133fd3-32ea-471a-a8ed-fe372d8e5aaa"
      },
      "outputs": [
        {
          "output_type": "stream",
          "name": "stdout",
          "text": [
            "1.0.2\n"
          ]
        }
      ],
      "source": [
        "# 기본적으로 필요한 모듈 임포팅\n",
        "\n",
        "import sklearn\n",
        "\n",
        "print(sklearn.__version__)\n",
        "\n",
        "from sklearn.datasets import load_digits\n",
        "from sklearn.model_selection import train_test_split\n",
        "from sklearn.metrics import classification_report"
      ]
    },
    {
      "cell_type": "code",
      "source": [
        "# 데이터 준비 및 이해하기\n",
        "\n",
        "digits = load_digits()\n",
        "print(dir(digits))\n",
        "digits_data = digits.data\n",
        "digits_label = digits.target\n",
        "\n",
        "print(digits.target_names)\n",
        "print(digits.DESCR)"
      ],
      "metadata": {
        "colab": {
          "base_uri": "https://localhost:8080/"
        },
        "id": "oE9jHPZhvw_S",
        "outputId": "55d961da-be47-44bb-f0ac-fdc0b4f7dc00"
      },
      "execution_count": 13,
      "outputs": [
        {
          "output_type": "stream",
          "name": "stdout",
          "text": [
            "['DESCR', 'data', 'feature_names', 'frame', 'images', 'target', 'target_names']\n",
            "[0 1 2 3 4 5 6 7 8 9]\n",
            ".. _digits_dataset:\n",
            "\n",
            "Optical recognition of handwritten digits dataset\n",
            "--------------------------------------------------\n",
            "\n",
            "**Data Set Characteristics:**\n",
            "\n",
            "    :Number of Instances: 1797\n",
            "    :Number of Attributes: 64\n",
            "    :Attribute Information: 8x8 image of integer pixels in the range 0..16.\n",
            "    :Missing Attribute Values: None\n",
            "    :Creator: E. Alpaydin (alpaydin '@' boun.edu.tr)\n",
            "    :Date: July; 1998\n",
            "\n",
            "This is a copy of the test set of the UCI ML hand-written digits datasets\n",
            "https://archive.ics.uci.edu/ml/datasets/Optical+Recognition+of+Handwritten+Digits\n",
            "\n",
            "The data set contains images of hand-written digits: 10 classes where\n",
            "each class refers to a digit.\n",
            "\n",
            "Preprocessing programs made available by NIST were used to extract\n",
            "normalized bitmaps of handwritten digits from a preprinted form. From a\n",
            "total of 43 people, 30 contributed to the training set and different 13\n",
            "to the test set. 32x32 bitmaps are divided into nonoverlapping blocks of\n",
            "4x4 and the number of on pixels are counted in each block. This generates\n",
            "an input matrix of 8x8 where each element is an integer in the range\n",
            "0..16. This reduces dimensionality and gives invariance to small\n",
            "distortions.\n",
            "\n",
            "For info on NIST preprocessing routines, see M. D. Garris, J. L. Blue, G.\n",
            "T. Candela, D. L. Dimmick, J. Geist, P. J. Grother, S. A. Janet, and C.\n",
            "L. Wilson, NIST Form-Based Handprint Recognition System, NISTIR 5469,\n",
            "1994.\n",
            "\n",
            ".. topic:: References\n",
            "\n",
            "  - C. Kaynak (1995) Methods of Combining Multiple Classifiers and Their\n",
            "    Applications to Handwritten Digit Recognition, MSc Thesis, Institute of\n",
            "    Graduate Studies in Science and Engineering, Bogazici University.\n",
            "  - E. Alpaydin, C. Kaynak (1998) Cascading Classifiers, Kybernetika.\n",
            "  - Ken Tang and Ponnuthurai N. Suganthan and Xi Yao and A. Kai Qin.\n",
            "    Linear dimensionalityreduction using relevance weighted LDA. School of\n",
            "    Electrical and Electronic Engineering Nanyang Technological University.\n",
            "    2005.\n",
            "  - Claudio Gentile. A New Approximate Maximal Margin Classification\n",
            "    Algorithm. NIPS. 2000.\n",
            "\n"
          ]
        }
      ]
    },
    {
      "cell_type": "code",
      "source": [
        "# train, test 데이터 분리하기\n",
        "\n",
        "X_train, X_test, y_train, y_test = train_test_split(digits_data, \n",
        "                                                    digits_label, \n",
        "                                                    test_size=0.2, \n",
        "                                                    random_state=5) # 모델 간의 비교 위해 랜덤 스테이트 사용\n"
      ],
      "metadata": {
        "id": "ivI-msnaxUDt"
      },
      "execution_count": 14,
      "outputs": []
    },
    {
      "cell_type": "code",
      "source": [
        "# Decision Tree \n",
        "\n",
        "from sklearn.tree import DecisionTreeClassifier\n",
        "\n",
        "decision_tree = DecisionTreeClassifier(random_state=32)\n",
        "\n",
        "print(decision_tree._estimator_type)\n",
        "\n",
        "decision_tree.fit(X_train, y_train)\n",
        "y_pred = decision_tree.predict(X_test)\n",
        "\n",
        "print(classification_report(y_test, y_pred))"
      ],
      "metadata": {
        "colab": {
          "base_uri": "https://localhost:8080/"
        },
        "id": "ItMQmnf3xUCJ",
        "outputId": "f7a7690c-699c-4c95-feef-04dd67f1594d"
      },
      "execution_count": 24,
      "outputs": [
        {
          "output_type": "stream",
          "name": "stdout",
          "text": [
            "classifier\n",
            "              precision    recall  f1-score   support\n",
            "\n",
            "           0       1.00      0.91      0.96        35\n",
            "           1       0.82      0.89      0.85        35\n",
            "           2       0.88      0.81      0.84        36\n",
            "           3       0.89      0.84      0.86        37\n",
            "           4       0.85      0.72      0.78        32\n",
            "           5       0.88      0.83      0.85        46\n",
            "           6       0.96      0.90      0.93        30\n",
            "           7       0.83      0.83      0.83        42\n",
            "           8       0.78      0.84      0.81        38\n",
            "           9       0.71      1.00      0.83        29\n",
            "\n",
            "    accuracy                           0.85       360\n",
            "   macro avg       0.86      0.86      0.85       360\n",
            "weighted avg       0.86      0.85      0.85       360\n",
            "\n"
          ]
        }
      ]
    },
    {
      "cell_type": "code",
      "source": [
        "# Random Forest\n",
        "\n",
        "from sklearn.ensemble import RandomForestClassifier\n",
        "\n",
        "random_forest = RandomForestClassifier(random_state=32)\n",
        "\n",
        "print(random_forest._estimator_type)\n",
        "\n",
        "random_forest.fit(X_train, y_train)\n",
        "y_pred = random_forest.predict(X_test)\n",
        "\n",
        "print(classification_report(y_test, y_pred))"
      ],
      "metadata": {
        "colab": {
          "base_uri": "https://localhost:8080/"
        },
        "id": "myRMI_X6xT_s",
        "outputId": "fd4a8fc4-3cb5-4b9b-b5a8-8f0addbebe60"
      },
      "execution_count": 23,
      "outputs": [
        {
          "output_type": "stream",
          "name": "stdout",
          "text": [
            "classifier\n",
            "              precision    recall  f1-score   support\n",
            "\n",
            "           0       1.00      0.97      0.99        35\n",
            "           1       0.97      1.00      0.99        35\n",
            "           2       0.97      1.00      0.99        36\n",
            "           3       1.00      0.95      0.97        37\n",
            "           4       0.97      0.97      0.97        32\n",
            "           5       0.94      0.96      0.95        46\n",
            "           6       1.00      0.97      0.98        30\n",
            "           7       0.98      0.98      0.98        42\n",
            "           8       0.92      0.95      0.94        38\n",
            "           9       0.93      0.93      0.93        29\n",
            "\n",
            "    accuracy                           0.97       360\n",
            "   macro avg       0.97      0.97      0.97       360\n",
            "weighted avg       0.97      0.97      0.97       360\n",
            "\n"
          ]
        }
      ]
    },
    {
      "cell_type": "code",
      "source": [
        "# SVM\n",
        "\n",
        "from sklearn import svm\n",
        "svm_model = svm.SVC()\n",
        "\n",
        "print(svm_model._estimator_type)\n",
        "\n",
        "svm_model.fit(X_train, y_train)\n",
        "y_pred = svm_model.predict(X_test)\n",
        "\n",
        "print(classification_report(y_test, y_pred))"
      ],
      "metadata": {
        "colab": {
          "base_uri": "https://localhost:8080/"
        },
        "id": "BrEB8DwaxT9U",
        "outputId": "1c86c99a-82bb-4b0b-e9ba-1ed7bf0297cd"
      },
      "execution_count": 17,
      "outputs": [
        {
          "output_type": "stream",
          "name": "stdout",
          "text": [
            "classifier\n",
            "              precision    recall  f1-score   support\n",
            "\n",
            "           0       1.00      1.00      1.00        35\n",
            "           1       0.97      1.00      0.99        35\n",
            "           2       1.00      1.00      1.00        36\n",
            "           3       1.00      0.95      0.97        37\n",
            "           4       1.00      1.00      1.00        32\n",
            "           5       0.96      0.98      0.97        46\n",
            "           6       1.00      1.00      1.00        30\n",
            "           7       1.00      0.98      0.99        42\n",
            "           8       0.95      0.95      0.95        38\n",
            "           9       0.90      0.93      0.92        29\n",
            "\n",
            "    accuracy                           0.98       360\n",
            "   macro avg       0.98      0.98      0.98       360\n",
            "weighted avg       0.98      0.98      0.98       360\n",
            "\n"
          ]
        }
      ]
    },
    {
      "cell_type": "code",
      "source": [
        "# SGD Classifier\n",
        "\n",
        "from sklearn.linear_model import SGDClassifier\n",
        "sgd_model = SGDClassifier()\n",
        "\n",
        "print(sgd_model._estimator_type)\n",
        "\n",
        "sgd_model.fit(X_train, y_train)\n",
        "y_pred = sgd_model.predict(X_test)\n",
        "\n",
        "print(classification_report(y_test, y_pred))"
      ],
      "metadata": {
        "colab": {
          "base_uri": "https://localhost:8080/"
        },
        "id": "DlE2-eomxT7X",
        "outputId": "48b65c3c-e0df-4b2e-9b02-0e7420682247"
      },
      "execution_count": 18,
      "outputs": [
        {
          "output_type": "stream",
          "name": "stdout",
          "text": [
            "classifier\n",
            "              precision    recall  f1-score   support\n",
            "\n",
            "           0       1.00      0.89      0.94        35\n",
            "           1       0.83      1.00      0.91        35\n",
            "           2       1.00      0.97      0.99        36\n",
            "           3       1.00      0.89      0.94        37\n",
            "           4       0.97      0.91      0.94        32\n",
            "           5       0.88      1.00      0.94        46\n",
            "           6       1.00      0.97      0.98        30\n",
            "           7       0.98      0.98      0.98        42\n",
            "           8       0.89      0.89      0.89        38\n",
            "           9       0.93      0.90      0.91        29\n",
            "\n",
            "    accuracy                           0.94       360\n",
            "   macro avg       0.95      0.94      0.94       360\n",
            "weighted avg       0.95      0.94      0.94       360\n",
            "\n"
          ]
        }
      ]
    },
    {
      "cell_type": "code",
      "source": [
        "# Logistic Regression\n",
        "\n",
        "from sklearn.linear_model import LogisticRegression\n",
        "logistic_model = LogisticRegression(max_iter=5000) # 기본값 100 에서 경고가 발생해 값을 늘림.\n",
        "\n",
        "print(logistic_model._estimator_type)\n",
        "\n",
        "logistic_model.fit(X_train, y_train)\n",
        "y_pred = logistic_model.predict(X_test)\n",
        "\n",
        "print(classification_report(y_test, y_pred))"
      ],
      "metadata": {
        "colab": {
          "base_uri": "https://localhost:8080/"
        },
        "id": "kjmjeOAxxT4z",
        "outputId": "5a66dc64-413c-4175-ff10-839399228630"
      },
      "execution_count": 28,
      "outputs": [
        {
          "output_type": "stream",
          "name": "stdout",
          "text": [
            "classifier\n",
            "              precision    recall  f1-score   support\n",
            "\n",
            "           0       1.00      1.00      1.00        35\n",
            "           1       0.89      0.97      0.93        35\n",
            "           2       0.95      1.00      0.97        36\n",
            "           3       0.97      0.95      0.96        37\n",
            "           4       0.97      0.91      0.94        32\n",
            "           5       0.98      0.93      0.96        46\n",
            "           6       1.00      0.97      0.98        30\n",
            "           7       0.98      0.98      0.98        42\n",
            "           8       0.97      0.92      0.95        38\n",
            "           9       0.88      0.97      0.92        29\n",
            "\n",
            "    accuracy                           0.96       360\n",
            "   macro avg       0.96      0.96      0.96       360\n",
            "weighted avg       0.96      0.96      0.96       360\n",
            "\n"
          ]
        }
      ]
    }
  ]
}